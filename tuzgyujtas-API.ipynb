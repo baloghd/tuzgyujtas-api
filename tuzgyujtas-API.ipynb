{
 "cells": [
  {
   "cell_type": "code",
   "execution_count": 2,
   "metadata": {},
   "outputs": [],
   "source": [
    "url = \"https://tuzgyujtasitilalom.nebih.gov.hu/geoserver/nebih/wms?service=WMS&version=1.1.0&request=GetMap&layers=nebih:tuzgyujtas&styles=&bbox=384000.0,32000.0,960000.0,384000.0&width=768&height=469&srs=EPSG:23700&format=image%2Fpng%3B+mode%3D8bit\""
   ]
  },
  {
   "cell_type": "code",
   "execution_count": 57,
   "metadata": {},
   "outputs": [],
   "source": [
    "from PIL import Image\n",
    "import requests\n",
    "import os\n",
    "from datetime import datetime\n",
    "import numpy as np\n",
    "import pandas as pd\n",
    "import json\n",
    "from typing import Tuple"
   ]
  },
  {
   "cell_type": "code",
   "execution_count": 58,
   "metadata": {},
   "outputs": [
    {
     "data": {
      "text/plain": [
       "0"
      ]
     },
     "execution_count": 58,
     "metadata": {},
     "output_type": "execute_result"
    }
   ],
   "source": [
    "os.system(f\"wget '{url}'\")\n",
    "os.system(f'mv wms* \"$(date -Idate).png\"')"
   ]
  },
  {
   "cell_type": "code",
   "execution_count": 3,
   "metadata": {},
   "outputs": [],
   "source": [
    "today = datetime.now().date().isoformat()"
   ]
  },
  {
   "cell_type": "code",
   "execution_count": 62,
   "metadata": {},
   "outputs": [],
   "source": [
    "img = Image.open(f\"teszt.png\")\n",
    "px = img.load()"
   ]
  },
  {
   "cell_type": "code",
   "execution_count": 75,
   "metadata": {},
   "outputs": [],
   "source": [
    "megye_mapping = {\n",
    "    'Bács-Kiskun': [361, 268],\n",
    "    'Baranya': [247, 413],\n",
    "    'Békés': [532, 289],\n",
    "    'Borsod-Abaúj-Zemplén': [529, 146],\n",
    "    'Csongrád-Csanád': [497, 344],\n",
    "    'Fejér': [328, 241],\n",
    "    \"Győr-Moson-Sopron\": [175, 175],\n",
    "    'Hajdú-Bihar': [570, 192],\n",
    "    'Heves': [486, 164],\n",
    "    'Jász-Nagykun-Szolnok': [509, 237],\n",
    "    \"Komárom-Esztergom\": [273, 167],\n",
    "    'Nógrád': [404, 148],\n",
    "    'Pest': [427, 231],\n",
    "    'Somogy': [211, 309],\n",
    "    'Szabolcs-Szatmár-Bereg': [600, 114],\n",
    "    'Tolna': [270, 309],\n",
    "    'Vas': [121, 235],\n",
    "    'Veszprém': [185, 217],\n",
    "    'Zala': [143, 307],\n",
    "    'Budapest': [361, 186]}"
   ]
  },
  {
   "cell_type": "code",
   "execution_count": 76,
   "metadata": {},
   "outputs": [],
   "source": [
    "def van_tilalom(rgb: Tuple[int]) -> bool:\n",
    "    return rgb[1] < 250 and rgb[2] < 250"
   ]
  },
  {
   "cell_type": "code",
   "execution_count": 77,
   "metadata": {},
   "outputs": [
    {
     "name": "stdout",
     "output_type": "stream",
     "text": [
      "Bács-Kiskun True\n",
      "Baranya True\n",
      "Békés True\n",
      "Borsod-Abaúj-Zemplén True\n",
      "Csongrád-Csanád True\n",
      "Fejér True\n",
      "Győr-Moson-Sopron True\n",
      "Hajdú-Bihar True\n",
      "Heves True\n",
      "Jász-Nagykun-Szolnok True\n",
      "Komárom-Esztergom True\n",
      "Nógrád False\n",
      "Pest True\n",
      "Somogy True\n",
      "Szabolcs-Szatmár-Bereg True\n",
      "Tolna True\n",
      "Vas True\n",
      "Veszprém True\n",
      "Zala True\n",
      "Budapest False\n"
     ]
    }
   ],
   "source": [
    "resp = dict()\n",
    "for megye in megye_mapping:\n",
    "    x, y = megye_mapping[megye]\n",
    "    print(megye, van_tilalom(px[x, y]))\n",
    "    resp[megye] = van_tilalom(px[x, y])"
   ]
  },
  {
   "cell_type": "code",
   "execution_count": 79,
   "metadata": {},
   "outputs": [],
   "source": [
    "resp.update({\"date\": today})"
   ]
  },
  {
   "cell_type": "code",
   "execution_count": 80,
   "metadata": {},
   "outputs": [
    {
     "data": {
      "text/plain": [
       "'{\"Bács-Kiskun\": true, \"Baranya\": true, \"Békés\": true, \"Borsod-Abaúj-Zemplén\": true, \"Csongrád-Csanád\": true, \"Fejér\": true, \"Győr-Moson-Sopron\": true, \"Hajdú-Bihar\": true, \"Heves\": true, \"Jász-Nagykun-Szolnok\": true, \"Komárom-Esztergom\": true, \"Nógrád\": false, \"Pest\": true, \"Somogy\": true, \"Szabolcs-Szatmár-Bereg\": true, \"Tolna\": true, \"Vas\": true, \"Veszprém\": true, \"Zala\": true, \"Budapest\": false, \"date\": \"2020-09-01\"}'"
      ]
     },
     "execution_count": 80,
     "metadata": {},
     "output_type": "execute_result"
    }
   ],
   "source": [
    "json.dumps(resp, ensure_ascii=False)"
   ]
  }
 ],
 "metadata": {
  "kernelspec": {
   "display_name": "Python 3",
   "language": "python",
   "name": "python3"
  },
  "language_info": {
   "codemirror_mode": {
    "name": "ipython",
    "version": 3
   },
   "file_extension": ".py",
   "mimetype": "text/x-python",
   "name": "python",
   "nbconvert_exporter": "python",
   "pygments_lexer": "ipython3",
   "version": "3.7.7"
  }
 },
 "nbformat": 4,
 "nbformat_minor": 4
}
