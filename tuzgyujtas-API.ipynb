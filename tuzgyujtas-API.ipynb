{
 "cells": [
  {
   "cell_type": "code",
   "execution_count": 2,
   "metadata": {},
   "outputs": [],
   "source": [
    "url = \"https://tuzgyujtasitilalom.nebih.gov.hu/geoserver/nebih/wms?service=WMS&version=1.1.0&request=GetMap&layers=nebih:tuzgyujtas&styles=&bbox=384000.0,32000.0,960000.0,384000.0&width=768&height=469&srs=EPSG:23700&format=image%2Fpng%3B+mode%3D8bit\""
   ]
  },
  {
   "cell_type": "code",
   "execution_count": 57,
   "metadata": {},
   "outputs": [],
   "source": [
    "from PIL import Image\n",
    "import requests\n",
    "import os\n",
    "from datetime import datetime\n",
    "import numpy as np\n",
    "import pandas as pd"
   ]
  },
  {
   "cell_type": "code",
   "execution_count": 58,
   "metadata": {},
   "outputs": [
    {
     "data": {
      "text/plain": [
       "0"
      ]
     },
     "execution_count": 58,
     "metadata": {},
     "output_type": "execute_result"
    }
   ],
   "source": [
    "os.system(f\"wget '{url}'\")\n",
    "os.system(f'mv wms* \"$(date -Idate).png\"')"
   ]
  },
  {
   "cell_type": "code",
   "execution_count": 22,
   "metadata": {},
   "outputs": [],
   "source": [
    "today = datetime.now().date().isoformat()"
   ]
  },
  {
   "cell_type": "code",
   "execution_count": 42,
   "metadata": {},
   "outputs": [],
   "source": [
    "img = Image.open(f\"{today}.png\")\n",
    "px = img.load()"
   ]
  },
  {
   "cell_type": "code",
   "execution_count": 46,
   "metadata": {},
   "outputs": [
    {
     "data": {
      "text/plain": [
       "(255, 255, 255)"
      ]
     },
     "execution_count": 46,
     "metadata": {},
     "output_type": "execute_result"
    }
   ],
   "source": [
    "px[175,175]"
   ]
  },
  {
   "cell_type": "code",
   "execution_count": 47,
   "metadata": {},
   "outputs": [],
   "source": [
    "megye_mapping = {\n",
    "    \"Győr-Moson-Sopron\": [175, 175],\n",
    "    \"Komárom-Esztergom\": [273, 167],\n",
    "    \n",
    "}"
   ]
  },
  {
   "cell_type": "code",
   "execution_count": 56,
   "metadata": {},
   "outputs": [
    {
     "data": {
      "text/plain": [
       "(124, 180, 68)"
      ]
     },
     "execution_count": 56,
     "metadata": {},
     "output_type": "execute_result"
    }
   ],
   "source": [
    "px[339,129]"
   ]
  },
  {
   "cell_type": "code",
   "execution_count": 53,
   "metadata": {},
   "outputs": [],
   "source": [
    "df = pd.read_html(requests.get(\"https://hu.wikipedia.org/wiki/Magyarorsz%C3%A1g_megy%C3%A9i\").text)[0]"
   ]
  },
  {
   "cell_type": "code",
   "execution_count": 55,
   "metadata": {},
   "outputs": [
    {
     "data": {
      "text/plain": [
       "0                Bács-Kiskun\n",
       "1                    Baranya\n",
       "2                      Békés\n",
       "3       Borsod-Abaúj-Zemplén\n",
       "4            Csongrád-Csanád\n",
       "5                      Fejér\n",
       "6          Győr-Moson-Sopron\n",
       "7                Hajdú-Bihar\n",
       "8                      Heves\n",
       "9       Jász-Nagykun-Szolnok\n",
       "10         Komárom-Esztergom\n",
       "11                    Nógrád\n",
       "12                      Pest\n",
       "13                    Somogy\n",
       "14    Szabolcs-Szatmár-Bereg\n",
       "15                     Tolna\n",
       "16                       Vas\n",
       "17                  Veszprém\n",
       "18                      Zala\n",
       "20        Budapest (főváros)\n",
       "Name: (Megye, Megye), dtype: object"
      ]
     },
     "execution_count": 55,
     "metadata": {},
     "output_type": "execute_result"
    }
   ],
   "source": [
    "df.iloc[:, 0].dropna()"
   ]
  }
 ],
 "metadata": {
  "kernelspec": {
   "display_name": "Python 3",
   "language": "python",
   "name": "python3"
  },
  "language_info": {
   "codemirror_mode": {
    "name": "ipython",
    "version": 3
   },
   "file_extension": ".py",
   "mimetype": "text/x-python",
   "name": "python",
   "nbconvert_exporter": "python",
   "pygments_lexer": "ipython3",
   "version": "3.7.7"
  }
 },
 "nbformat": 4,
 "nbformat_minor": 4
}
